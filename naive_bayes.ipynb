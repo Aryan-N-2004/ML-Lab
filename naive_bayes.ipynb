import pandas as pd
from sklearn.model_selection import train_test_split
from sklearn.naive_bayes import GaussianNB
from sklearn.impute import SimpleImputer
from sklearn.preprocessing import LabelEncoder
from sklearn.metrics import confusion_matrix, accuracy_score

# Load dataset
df = pd.read_csv("Titanic-Dataset.csv")[['Survived','Pclass','Age','SibSp','Parch','Fare','Embarked']]

# Handle missing values
df[['Age','Fare']] = SimpleImputer(strategy='median').fit_transform(df[['Age','Fare']])
df['Embarked'] = df['Embarked'].fillna(df['Embarked'].mode()[0])
df['Embarked'] = LabelEncoder().fit_transform(df['Embarked'])

# Features and target
X, y = df.drop('Survived', axis=1), df['Survived']

# Train-test split
X_train, X_test, y_train, y_test = train_test_split(X, y, test_size=0.2, random_state=42)

# Train Naive Bayes model
model = GaussianNB().fit(X_train, y_train)

# Predictions & evaluation
y_pred = model.predict(X_test)
print("Confusion Matrix:\n", confusion_matrix(y_test, y_pred))
print("Accuracy:", round(accuracy_score(y_test, y_pred), 4))
